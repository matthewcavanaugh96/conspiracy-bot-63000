{
 "cells": [
  {
   "cell_type": "markdown",
   "id": "48a835c5-c920-461d-ad7d-374141995986",
   "metadata": {},
   "source": [
    "Testing notebook. Here I will compile a dataframe to compare responses with instructions and questions, to see how things change."
   ]
  }
 ],
 "metadata": {
  "kernelspec": {
   "display_name": "Python 3 (ipykernel)",
   "language": "python",
   "name": "python3"
  },
  "language_info": {
   "codemirror_mode": {
    "name": "ipython",
    "version": 3
   },
   "file_extension": ".py",
   "mimetype": "text/x-python",
   "name": "python",
   "nbconvert_exporter": "python",
   "pygments_lexer": "ipython3",
   "version": "3.12.4"
  }
 },
 "nbformat": 4,
 "nbformat_minor": 5
}
