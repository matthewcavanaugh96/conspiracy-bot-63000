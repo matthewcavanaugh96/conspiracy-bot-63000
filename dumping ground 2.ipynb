{
 "cells": [
  {
   "cell_type": "code",
   "execution_count": null,
   "id": "22d4303d-26ea-445d-8e31-f3628e6b27e2",
   "metadata": {},
   "outputs": [],
   "source": [
    "# ------------------ FACTS LOADER ------------------\n",
    "def load_conspiracy_facts(file_path: str):\n",
    "    with open(file_path, \"r\", encoding=\"utf-8\") as f:\n",
    "        facts = [line.strip() for line in f if line.strip()]\n",
    "    return facts, os.path.basename(file_path)  # list of facts + filename used\n",
    "\n",
    "conspiracy_facts, facts_file_used = load_conspiracy_facts(facts_file_path)\n",
    "\n",
    "\n",
    "\n",
    "\n",
    "# Load facts + remember which file\n",
    "#conspiracy_facts, facts_file_used = load_conspiracy_facts(\"conspiracy_facts.txt\")\n",
    "\n",
    "\n",
    "\n",
    "\n",
    "\n",
    "\n",
    "# Initialize logs DataFrame (load if exists, else create)\n",
    "log_columns = [\"timestamp\", \"instructions\", \"question\", \"prompt\", \"response\"]\n",
    "if os.path.exists(log_file_path):\n",
    "    conversation_logs = pd.read_csv(log_file_path)\n",
    "else:\n",
    "    conversation_logs = pd.DataFrame(columns=log_columns)\n",
    "    conversation_logs.to_csv(log_file_path, index=False)"
   ]
  },
  {
   "cell_type": "code",
   "execution_count": null,
   "id": "a619fcea-baf4-4b7d-b8f2-7563b1993293",
   "metadata": {},
   "outputs": [],
   "source": []
  },
  {
   "cell_type": "code",
   "execution_count": null,
   "id": "fedd7bd6-d09b-4298-a615-b4d160e7e1be",
   "metadata": {},
   "outputs": [],
   "source": []
  },
  {
   "cell_type": "code",
   "execution_count": null,
   "id": "2b23298f-5959-4a94-b2a9-63577361e57d",
   "metadata": {},
   "outputs": [],
   "source": []
  },
  {
   "cell_type": "code",
   "execution_count": null,
   "id": "39b46ab6-30d1-4cc7-b55e-00ffc33cc3f5",
   "metadata": {},
   "outputs": [],
   "source": []
  },
  {
   "cell_type": "code",
   "execution_count": null,
   "id": "79cae7b7-6252-4476-b479-bed4ff354583",
   "metadata": {},
   "outputs": [],
   "source": [
    "# ------------------ LOG FILE BOOTSTRAP ------------------\n",
    "def init_or_fix_log(path: str, expected_cols: list[str]) -> pd.DataFrame:\n",
    "    \"\"\"\n",
    "    Ensures the CSV exists with the correct columns (in order).\n",
    "    If the file exists but is missing columns, they are added and the file is rewritten with the correct header.\n",
    "    NOTE: This prevents future misalignment, but cannot reliably fix already-misaligned historical rows.\n",
    "    \"\"\"\n",
    "    if os.path.exists(path):\n",
    "        try:\n",
    "            df = pd.read_csv(path, dtype=str)\n",
    "        except Exception:\n",
    "            # If unreadable, start fresh\n",
    "            df = pd.DataFrame(columns=expected_cols)\n",
    "            df.to_csv(path, index=False)\n",
    "            return df\n",
    "\n",
    "        changed = False\n",
    "        for col in expected_cols:\n",
    "            if col not in df.columns:\n",
    "                df[col] = \"\"\n",
    "                changed = True\n",
    "\n",
    "        # Reorder columns exactly\n",
    "        df = df[expected_cols]\n",
    "\n",
    "        if changed or list(df.columns) != expected_cols:\n",
    "            df.to_csv(path, index=False)\n",
    "\n",
    "        return df\n",
    "    else:\n",
    "        df = pd.DataFrame(columns=expected_cols)\n",
    "        df.to_csv(path, index=False)\n",
    "        return df\n",
    "\n",
    "conversation_logs = init_or_fix_log(log_file_path, LOG_COLS)"
   ]
  },
  {
   "cell_type": "code",
   "execution_count": null,
   "id": "86245552-fbd3-4306-a2b7-71aa8ec47e4a",
   "metadata": {},
   "outputs": [],
   "source": []
  },
  {
   "cell_type": "code",
   "execution_count": null,
   "id": "107ae428-9179-40f1-afcd-6c9228a323d2",
   "metadata": {},
   "outputs": [],
   "source": []
  },
  {
   "cell_type": "code",
   "execution_count": null,
   "id": "f9beacb5-a649-40ed-a7c1-745e74fdfe2e",
   "metadata": {},
   "outputs": [],
   "source": []
  },
  {
   "cell_type": "code",
   "execution_count": null,
   "id": "d62fffc6-af11-4a3a-8173-2b5e44edb177",
   "metadata": {},
   "outputs": [],
   "source": [
    "# Store instructions as a callable string (later you can also load from file)\n",
    "#instructions = \"\"\"You are ConspiracyBot63000, a chatbot tasked with providing conspiratorial-minded answers to users' inquiries.\n",
    "#... (rest unchanged) ...\n",
    "#\"\"\"\n",
    "\n",
    "# Path to persistent log file\n",
    "#log_file_path = \"/Users/matthewcavanaugh/Desktop/GitHub/conspiracy-bot-63000/testing_logs.csv\""
   ]
  },
  {
   "cell_type": "code",
   "execution_count": null,
   "id": "b797789a-0f07-4b2b-bcfb-f85e08798313",
   "metadata": {},
   "outputs": [],
   "source": []
  },
  {
   "cell_type": "code",
   "execution_count": null,
   "id": "a80f0076-cc24-4faa-a9e1-17d4ab30196e",
   "metadata": {},
   "outputs": [],
   "source": []
  },
  {
   "cell_type": "code",
   "execution_count": null,
   "id": "cab60970-76f1-41e0-ae62-4c60880367a3",
   "metadata": {},
   "outputs": [],
   "source": []
  },
  {
   "cell_type": "code",
   "execution_count": null,
   "id": "98320923-9049-4e0e-85c1-79d08aca815d",
   "metadata": {},
   "outputs": [],
   "source": []
  },
  {
   "cell_type": "code",
   "execution_count": null,
   "id": "3824bb6e-6057-4aa9-849e-b04e925e14d1",
   "metadata": {},
   "outputs": [],
   "source": []
  },
  {
   "cell_type": "code",
   "execution_count": null,
   "id": "6cc9b0de-6739-47a6-b97b-7569e7f1b005",
   "metadata": {},
   "outputs": [],
   "source": [
    "# Path to persistent log file\n",
    "log_file_path = \"/Users/matthewcavanaugh/Desktop/GitHub/conspiracy-bot-63000/testing_logs.csv\"\n",
    "\n",
    "# Initialize logs DataFrame (load if exists, else create)\n",
    "log_columns = [\"timestamp\", \"instructions\", \"question\", \"prompt\", \"response\"]\n",
    "if os.path.exists(log_file_path):\n",
    "    conversation_logs = pd.read_csv(log_file_path)\n",
    "else:\n",
    "    conversation_logs = pd.DataFrame(columns=log_columns)\n",
    "    conversation_logs.to_csv(log_file_path, index=False)"
   ]
  },
  {
   "cell_type": "code",
   "execution_count": null,
   "id": "bbc63648-10fd-40e8-8f2f-117cc9e403c5",
   "metadata": {},
   "outputs": [],
   "source": []
  },
  {
   "cell_type": "code",
   "execution_count": null,
   "id": "b360bef0-34f5-42ca-9cd2-61f5d592ef16",
   "metadata": {},
   "outputs": [],
   "source": []
  },
  {
   "cell_type": "code",
   "execution_count": null,
   "id": "e3e9d516-324d-42f5-aa52-63952778fe9e",
   "metadata": {},
   "outputs": [],
   "source": []
  },
  {
   "cell_type": "code",
   "execution_count": null,
   "id": "752a9123-10de-4064-a4b1-833bdc90e22f",
   "metadata": {},
   "outputs": [],
   "source": []
  },
  {
   "cell_type": "code",
   "execution_count": null,
   "id": "2ab02b77-1b4d-48fa-b4cb-013e44c27b16",
   "metadata": {},
   "outputs": [],
   "source": []
  },
  {
   "cell_type": "code",
   "execution_count": null,
   "id": "7cc43616-735d-442a-9ddf-52fbd7b2e59d",
   "metadata": {},
   "outputs": [],
   "source": []
  },
  {
   "cell_type": "code",
   "execution_count": null,
   "id": "e583bea6-31e9-4c11-8b1b-de969d746019",
   "metadata": {},
   "outputs": [],
   "source": [
    "# Read key from file\n",
    "with open(\"/Users/matthewcavanaugh/Desktop/Various Data and Tech Related/Sensitive/Open API Key.txt\") as f:\n",
    "    key = f.read().strip()\n",
    "\n",
    "# set global env api key\n",
    "import os\n",
    "os.environ[\"OPENAI_API_KEY\"] = key"
   ]
  },
  {
   "cell_type": "code",
   "execution_count": null,
   "id": "04b4fa5d-acf1-41b0-af8a-2032e31370d4",
   "metadata": {},
   "outputs": [],
   "source": [
    "from openai import OpenAI\n",
    "from sentence_transformers import SentenceTransformer\n",
    "import faiss\n",
    "import pandas as pd\n",
    "from datetime import datetime"
   ]
  },
  {
   "cell_type": "code",
   "execution_count": null,
   "id": "d8193c75-e519-4117-9055-2f1054fd2ee6",
   "metadata": {},
   "outputs": [],
   "source": []
  },
  {
   "cell_type": "code",
   "execution_count": null,
   "id": "7488f0d0-9633-44ac-bac8-a9794842cd55",
   "metadata": {},
   "outputs": [],
   "source": []
  },
  {
   "cell_type": "code",
   "execution_count": null,
   "id": "0f1922d6-aead-4c7a-8625-4ff5800353a2",
   "metadata": {},
   "outputs": [],
   "source": []
  },
  {
   "cell_type": "code",
   "execution_count": null,
   "id": "d802bf8d-f72e-4879-8096-e09299b6ecf5",
   "metadata": {},
   "outputs": [],
   "source": []
  },
  {
   "cell_type": "code",
   "execution_count": null,
   "id": "888b1592-b090-4716-bc94-215e402d82b9",
   "metadata": {},
   "outputs": [],
   "source": []
  },
  {
   "cell_type": "code",
   "execution_count": null,
   "id": "4a9141a6-4630-41d7-9f0d-59efdcd8027f",
   "metadata": {},
   "outputs": [],
   "source": []
  },
  {
   "cell_type": "code",
   "execution_count": null,
   "id": "6ea88c56-7960-4e6c-8d2e-f1354cf37137",
   "metadata": {},
   "outputs": [],
   "source": []
  },
  {
   "cell_type": "code",
   "execution_count": null,
   "id": "bc576af4-6893-4ed3-834a-e8ecb16a8366",
   "metadata": {},
   "outputs": [],
   "source": []
  },
  {
   "cell_type": "code",
   "execution_count": null,
   "id": "0bc4e535-2f65-4971-97ef-9f572f7f90de",
   "metadata": {},
   "outputs": [],
   "source": []
  },
  {
   "cell_type": "code",
   "execution_count": null,
   "id": "5fb3efd2-7581-48cc-bcb4-81b2dae4848c",
   "metadata": {},
   "outputs": [],
   "source": []
  },
  {
   "cell_type": "markdown",
   "id": "72c0397a-6736-4642-b5fe-5b4e8424742b",
   "metadata": {},
   "source": [
    "# This was relevant more recently"
   ]
  },
  {
   "cell_type": "code",
   "execution_count": null,
   "id": "0880eb50-b6e1-4c80-8bfa-160cf39057f3",
   "metadata": {},
   "outputs": [],
   "source": [
    "# Define which facts file to use\n",
    "facts_file_path = \"conspiracy_facts.txt\"\n",
    "\n",
    "# Define which intstructions file to use\n",
    "instructions_file_path = \"instructions.txt\"\n",
    "\n",
    "# Path to persistent log file\n",
    "log_file_path = \"/Users/matthewcavanaugh/Desktop/GitHub/conspiracy-bot-63000/testing_logs.csv\"\n",
    "\n",
    "# Expected CSV schema (make sure \"source_file\" is first)\n",
    "LOG_COLS = [\"source_file\", \"timestamp\", \"instructions\", \"question\", \"prompt\", \"response\"]\n",
    "\n",
    "# Expected CSV schema (make sure \"source_file\" is first)\n",
    "LOG_COLS = [\"source_file\", \"timestamp\", \"instructions\", \"question\", \"prompt\", \"response\"]\n"
   ]
  }
 ],
 "metadata": {
  "kernelspec": {
   "display_name": "Python 3 (ipykernel)",
   "language": "python",
   "name": "python3"
  },
  "language_info": {
   "codemirror_mode": {
    "name": "ipython",
    "version": 3
   },
   "file_extension": ".py",
   "mimetype": "text/x-python",
   "name": "python",
   "nbconvert_exporter": "python",
   "pygments_lexer": "ipython3",
   "version": "3.12.4"
  }
 },
 "nbformat": 4,
 "nbformat_minor": 5
}
